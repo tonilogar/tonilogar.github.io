{
  "nbformat": 4,
  "nbformat_minor": 0,
  "metadata": {
    "colab": {
      "provenance": []
    },
    "kernelspec": {
      "name": "python3",
      "display_name": "Python 3"
    },
    "language_info": {
      "name": "python"
    },
    "widgets": {
      "application/vnd.jupyter.widget-state+json": {
        "27bcb364932c46e89a3b7e322f25a5ae": {
          "model_module": "@jupyter-widgets/output",
          "model_name": "OutputModel",
          "model_module_version": "1.0.0",
          "state": {
            "_dom_classes": [],
            "_model_module": "@jupyter-widgets/output",
            "_model_module_version": "1.0.0",
            "_model_name": "OutputModel",
            "_view_count": null,
            "_view_module": "@jupyter-widgets/output",
            "_view_module_version": "1.0.0",
            "_view_name": "OutputView",
            "layout": "IPY_MODEL_ef0bd1b91a3e47528e56a64165378bab",
            "msg_id": "",
            "outputs": [
              {
                "output_type": "display_data",
                "data": {
                  "text/plain": "                                                                                                                   \n \u001b[1m \u001b[0m\u001b[1mProgress                 \u001b[0m\u001b[1m \u001b[0m \u001b[1m \u001b[0m\u001b[1mDraws\u001b[0m\u001b[1m \u001b[0m \u001b[1m \u001b[0m\u001b[1mDivergences\u001b[0m\u001b[1m \u001b[0m \u001b[1m \u001b[0m\u001b[1mStep size\u001b[0m\u001b[1m \u001b[0m \u001b[1m \u001b[0m\u001b[1mGrad evals\u001b[0m\u001b[1m \u001b[0m \u001b[1m \u001b[0m\u001b[1mSampling Speed\u001b[0m\u001b[1m \u001b[0m \u001b[1m \u001b[0m\u001b[1mElapsed\u001b[0m\u001b[1m \u001b[0m \u001b[1m \u001b[0m\u001b[1mRemaining\u001b[0m\u001b[1m \u001b[0m \n ───────────────────────────────────────────────────────────────────────────────────────────────────────────────── \n  \u001b[38;2;31;119;180m━━━━━━━━━━━━━━━━━━━━━━━━━\u001b[0m   3000    0             1.16        3            959.24 draws/s   0:00:03   0:00:00    \n  \u001b[38;2;31;119;180m━━━━━━━━━━━━━━━━━━━━━━━━━\u001b[0m   3000    0             1.62        3            847.62 draws/s   0:00:03   0:00:00    \n                                                                                                                   \n",
                  "text/html": "<pre style=\"white-space:pre;overflow-x:auto;line-height:normal;font-family:Menlo,'DejaVu Sans Mono',consolas,'Courier New',monospace\">                                                                                                                   \n <span style=\"font-weight: bold\"> Progress                  </span> <span style=\"font-weight: bold\"> Draws </span> <span style=\"font-weight: bold\"> Divergences </span> <span style=\"font-weight: bold\"> Step size </span> <span style=\"font-weight: bold\"> Grad evals </span> <span style=\"font-weight: bold\"> Sampling Speed </span> <span style=\"font-weight: bold\"> Elapsed </span> <span style=\"font-weight: bold\"> Remaining </span> \n ───────────────────────────────────────────────────────────────────────────────────────────────────────────────── \n  <span style=\"color: #1f77b4; text-decoration-color: #1f77b4\">━━━━━━━━━━━━━━━━━━━━━━━━━</span>   3000    0             1.16        3            959.24 draws/s   0:00:03   0:00:00    \n  <span style=\"color: #1f77b4; text-decoration-color: #1f77b4\">━━━━━━━━━━━━━━━━━━━━━━━━━</span>   3000    0             1.62        3            847.62 draws/s   0:00:03   0:00:00    \n                                                                                                                   \n</pre>\n"
                },
                "metadata": {}
              }
            ]
          }
        },
        "ef0bd1b91a3e47528e56a64165378bab": {
          "model_module": "@jupyter-widgets/base",
          "model_name": "LayoutModel",
          "model_module_version": "1.2.0",
          "state": {
            "_model_module": "@jupyter-widgets/base",
            "_model_module_version": "1.2.0",
            "_model_name": "LayoutModel",
            "_view_count": null,
            "_view_module": "@jupyter-widgets/base",
            "_view_module_version": "1.2.0",
            "_view_name": "LayoutView",
            "align_content": null,
            "align_items": null,
            "align_self": null,
            "border": null,
            "bottom": null,
            "display": null,
            "flex": null,
            "flex_flow": null,
            "grid_area": null,
            "grid_auto_columns": null,
            "grid_auto_flow": null,
            "grid_auto_rows": null,
            "grid_column": null,
            "grid_gap": null,
            "grid_row": null,
            "grid_template_areas": null,
            "grid_template_columns": null,
            "grid_template_rows": null,
            "height": null,
            "justify_content": null,
            "justify_items": null,
            "left": null,
            "margin": null,
            "max_height": null,
            "max_width": null,
            "min_height": null,
            "min_width": null,
            "object_fit": null,
            "object_position": null,
            "order": null,
            "overflow": null,
            "overflow_x": null,
            "overflow_y": null,
            "padding": null,
            "right": null,
            "top": null,
            "visibility": null,
            "width": null
          }
        }
      }
    }
  },
  "cells": [
    {
      "cell_type": "markdown",
      "source": [
        "**Descripción de las tareas**  \n",
        "**Actividad 1**\n",
        "\n",
        "Retomando la Actividad 2 de la semana 1 cuyo enunciado indicaba:\n",
        "“Los datos que se muestran a continuación representan el número de llamadas a un\n",
        "Callcenter (en\n",
        "intervalos de 2 minuto medidos 50 veces):  \n",
        " 0, 0, 0, 0, 0, 0, 1, 1, 1, 1, 1, 1, 1, 1, 1, 1, 1, 1, 1, 1, 1, 1, 1, 1, 2,\n",
        "2, 2, 2, 2, 2, 2, 2, 2, 3, 3, 3, 3, 3, 3, 3, 4, 4, 4, 4, 5, 5, 5, 5, 5, 5\n",
        "\n",
        "Usando una distribución previa\n",
        "Gamma(2, 1), obtener la distribución posterior bajo un modelo de\n",
        "Poisson(𝜃𝜃) para los datos.”  \n",
        "\n",
        "a) Obtén los estimadores bayesianos que minimizan las funciones de riesgo: 𝑙𝑙1, 𝑙𝑙2 𝑦𝑦 𝑙𝑙3.  \n",
        "b) Calcular un intervalo bayesiano de credibilidad con probabilidad del 95% einterpreta\n",
        "su resultado"
      ],
      "metadata": {
        "id": "m50pgz1XOjw4"
      }
    },
    {
      "cell_type": "code",
      "execution_count": 2,
      "metadata": {
        "id": "hUdyZW92OUTS"
      },
      "outputs": [],
      "source": [
        "\n",
        "import numpy as np\n",
        "import matplotlib.pyplot as plt\n",
        "from scipy.stats import gamma, poisson, beta\n",
        "import sympy as sp\n"
      ]
    },
    {
      "cell_type": "code",
      "source": [
        "# Datos: número de llamadas en cada intervalo de 2 minutos (50 observaciones)\n",
        "datos = np.array([0, 0, 0, 0, 0, 0, 1, 1, 1, 1, 1, 1, 1, 1, 1, 1, 1, 1, 1, 1, 1, 1, 1, 1, 2, 2, 2, 2, 2, 2, 2, 2, 2, 3, 3, 3, 3, 3, 3, 3, 4, 4, 4, 4, 5, 5, 5, 5, 5, 5])\n",
        "\n",
        "n = len(datos)            # Número de llamadas en intervalos de 2 minutos\n",
        "suma = np.sum(datos)       # Suma de llamadas\n",
        "\n",
        "# Distribución previa Gamma(α, β)\n",
        "dis_pre_form = 2 # Parametro de forma\n",
        "dis_pre_tas = 1  # Parametro de tasa\n",
        "\n",
        "\n",
        "\n",
        "# Actualización de los parámetros de la distribución posterior\n",
        "dis_post_form = dis_pre_form + suma\n",
        "dis_post_tasa  = dis_pre_tas + n\n",
        "\n",
        "\n",
        "\n",
        "print(f\"Distribución muestral:({n}, {suma})\")\n",
        "print(f\"Distribución previa:({dis_pre_form}, {dis_pre_tas})\")\n",
        "print(f\"Distribución posterior:({dis_post_form}, {dis_post_tasa})\")"
      ],
      "metadata": {
        "colab": {
          "base_uri": "https://localhost:8080/"
        },
        "id": "XP2iG9LoQm4W",
        "outputId": "aaeacec5-6c2e-4c44-9e1c-0b15120b8c0d"
      },
      "execution_count": 3,
      "outputs": [
        {
          "output_type": "stream",
          "name": "stdout",
          "text": [
            "Distribución muestral:(50, 103)\n",
            "Distribución previa:(2, 1)\n",
            "Distribución posterior:(105, 51)\n"
          ]
        }
      ]
    },
    {
      "cell_type": "code",
      "source": [
        "# a) Obtén los estimadores bayesianos que minimizan las funciones de riesgo: 𝑙𝑙1, 𝑙𝑙2 𝑦𝑦 𝑙𝑙3.\n",
        "# Pérdida cuadrática (media)\n",
        "estimador_media = dis_post_form / dis_post_tasa\n",
        "\n",
        "# Pérdida 0-1 (moda)\n",
        "estimador_moda = (dis_post_form - 1) / dis_post_tasa\n",
        "\n",
        "# Pérdida absoluta (mediana)\n",
        "estimador_mediana = gamma.ppf(0.5, a=dis_post_form, scale=1/dis_post_tasa)\n",
        "\n",
        "print(\"Pérdida cuadrática - media:{:.4f}\".format(estimador_media))\n",
        "print(\"Pérdida absoluta - mediana:{:.4f}\".format(estimador_mediana))\n",
        "print(\"Pérdida 0-1 - moda:{:.4f}\".format( estimador_moda))\n"
      ],
      "metadata": {
        "colab": {
          "base_uri": "https://localhost:8080/"
        },
        "id": "boWqRa4tVs0P",
        "outputId": "248325e7-b5ec-4270-9cf2-a040f3fd0590"
      },
      "execution_count": 4,
      "outputs": [
        {
          "output_type": "stream",
          "name": "stdout",
          "text": [
            "Pérdida cuadrática - media:2.0588\n",
            "Pérdida absoluta - mediana:2.0523\n",
            "Pérdida 0-1 - moda:2.0392\n"
          ]
        }
      ]
    },
    {
      "cell_type": "code",
      "source": [
        "# b) Calcular un intervalo bayesiano de credibilidad con probabilidad del 95% einterpreta su resultado\n",
        "# Cuantiles 0.025 y 0.975 de la distribución posterior\n",
        "ci_lower = gamma.ppf(0.025, a=dis_post_form, scale=1/dis_post_tasa)\n",
        "ci_upper = gamma.ppf(0.975, a=dis_post_form, scale=1/dis_post_tasa)\n",
        "\n",
        "print(\"Intervalo de credibilidad 95%: [{:.4f}, {:.4f}]\".format(ci_lower, ci_upper))\n",
        "print(f\"Con un 95% de credibilidad, se puede interpretar que existe una probabilidad del 95% de que el parámetro θ se encuentre entre {ci_lower:.4f} y {ci_upper:.4f}.\")\n",
        "\n",
        "# Gráfica de la distribución posterior y del intervalo de credibilidad\n",
        "theta_values = np.linspace(0, 4, 1000)\n",
        "posterior_density = gamma.pdf(theta_values, a=dis_post_form, scale=1/dis_post_tasa)\n",
        "\n",
        "plt.figure(figsize=(8, 4))\n",
        "plt.plot(theta_values, posterior_density, label=f\"Posterior Gamma({dis_post_form}, {dis_post_tasa})\")\n",
        "plt.axvline(estimador_media, color='r', linestyle='--', label=f\"Media = {estimador_media:.4f}\")\n",
        "plt.axvline(estimador_mediana, color='g', linestyle='--', label=f\"Mediana = {estimador_mediana:.4f}\")\n",
        "plt.axvline(estimador_moda, color='m', linestyle='--', label=f\"Modo = {estimador_moda:.4f}\")\n",
        "plt.fill_between(theta_values, posterior_density, where=(theta_values >= ci_lower) & (theta_values <= ci_upper),\n",
        "                 color='gray', alpha=0.3, label=\"IC 95%\")\n",
        "plt.xlabel(r'$\\theta$')\n",
        "plt.ylabel('Densidad')\n",
        "plt.legend()\n",
        "plt.title('Distribución Posterior de $\\theta$')\n",
        "plt.show()"
      ],
      "metadata": {
        "colab": {
          "base_uri": "https://localhost:8080/",
          "height": 447
        },
        "id": "mgUA7eN_aH1O",
        "outputId": "829e32c3-e91e-40c8-ca09-1e7c9c2299e4"
      },
      "execution_count": 5,
      "outputs": [
        {
          "output_type": "stream",
          "name": "stdout",
          "text": [
            "Intervalo de credibilidad 95%: [1.6839, 2.4709]\n",
            "Con un 95% de credibilidad, se puede interpretar que existe una probabilidad del 95% de que el parámetro θ se encuentre entre 1.6839 y 2.4709.\n"
          ]
        },
        {
          "output_type": "display_data",
          "data": {
            "text/plain": [
              "<Figure size 800x400 with 1 Axes>"
            ],
            "image/png": "[encoded data removed]"
          },
          "metadata": {}
        }
      ]
    },
    {
      "cell_type": "markdown",
      "source": [
        "**Actividad 2**  \n",
        "Un centro de investigación trabaja en el desarrollo un nuevo método para poder diagnosticar enfermedades infecciosas de manera más eficaz. El método que se venía usando proporcionaba un error del 17%, es decir, no detectaba la infección en el 17% de los pacientes que la padecían.\n",
        "Se escoge una muestra aleatoria de 100 pacientes con el objetivo de comparar los dos métodos.\n",
        "De los 100 pacientes de la muestra, el nuevo método ha fallado en 12 casos.  \n",
        "\n",
        "El objetivo del analista es poder disminuir la incertidumbre en la tasa de fallos del nuevo método (𝜃𝜃),\n",
        "y basándose en todo su conocimiento acumulado, determina que la tasa sigue una distribución previa 𝐵eta(1,6).  \n",
        "\n",
        "a) Calcular 1 estimador bayesiano asociado a la función de riesgo que consideres más apropiada y explica porque la has escogido.  \n",
        "b) Calcular un intervalo bayesiano de credibilidad con probabilidad del 95% e interpreta su resultado."
      ],
      "metadata": {
        "id": "fHpHh2BlajJ_"
      }
    },
    {
      "cell_type": "code",
      "source": [
        "\n",
        "n = 100 # Pacientes\n",
        "y = 12  # Errores\n",
        "\n",
        "\n",
        "\n",
        "# Distribución previa Beta\n",
        "dis_pre_form = 1 # Parametro de forma\n",
        "dis_pre_tas = 6  # Parametro de tasa\n",
        "\n",
        "\n",
        "\n",
        "# Actualización de los parámetros de la distribución posterior\n",
        "dis_post_form = dis_pre_form + y\n",
        "dis_post_tasa  = dis_pre_tas + n -y\n",
        "\n",
        "\n",
        "\n",
        "print(f\"Distribución muestral:({n}, {y})\")\n",
        "print(f\"Distribución previa: Beta({dis_pre_form}, {dis_pre_tas})\")\n",
        "print(f\"Distribución posterior: Beta({dis_post_form}, {dis_post_tasa})\")"
      ],
      "metadata": {
        "colab": {
          "base_uri": "https://localhost:8080/"
        },
        "id": "j8k0rBRdkDSX",
        "outputId": "bcfd825f-7bef-41e2-fa05-363e99597008"
      },
      "execution_count": 6,
      "outputs": [
        {
          "output_type": "stream",
          "name": "stdout",
          "text": [
            "Distribución muestral:(100, 12)\n",
            "Distribución previa: Beta(1, 6)\n",
            "Distribución posterior: Beta(13, 94)\n"
          ]
        }
      ]
    },
    {
      "cell_type": "markdown",
      "source": [
        "**a) Calcular 1 estimador bayesiano asociado a la función de riesgo que consideres más apropiada y explica porque la has escogido.**\n",
        "\n",
        "Usamos la media posterior porque facilita la comparación directa entre el nuevo método y el método anterior, permitiéndonos validar si efectivamente se reduce la tasa de error.\""
      ],
      "metadata": {
        "id": "6koxcv8NoP73"
      }
    },
    {
      "cell_type": "code",
      "source": [
        "# Se utiliza la media posterior como estimador bayesiano porque minimiza el error cuadrático.\n",
        "# La función de pérdida cuadrática penaliza más fuertemente los errores grandes, por lo que la media\n",
        "# resulta ser la elección óptima en escenarios donde se desea evitar grandes desviaciones.\n",
        "bayes_estimator = dis_post_form / (dis_post_form + dis_post_tasa)\n",
        "print(\"Estimador Bayesiano (media posterior): {:.4f}\".format(bayes_estimator))"
      ],
      "metadata": {
        "colab": {
          "base_uri": "https://localhost:8080/"
        },
        "id": "p9U3apZCnhRH",
        "outputId": "b08a5494-55c6-4269-9a44-f87c8e44e5f9"
      },
      "execution_count": 7,
      "outputs": [
        {
          "output_type": "stream",
          "name": "stdout",
          "text": [
            "Estimador Bayesiano (media posterior): 0.1215\n"
          ]
        }
      ]
    },
    {
      "cell_type": "code",
      "source": [
        "# b) Calcular un intervalo bayesiano de credibilidad con probabilidad del 95% e interpreta su resultado.\n",
        "\n",
        "# Cálculo del intervalo de credibilidad del 95%\n",
        "ci_lower = beta.ppf(0.025, dis_post_form, dis_post_tasa)\n",
        "ci_upper = beta.ppf(0.975, dis_post_form, dis_post_tasa)\n",
        "print(\"Intervalo de credibilidad 95%: [{:.4f}, {:.4f}]\".format(ci_lower, ci_upper))\n",
        "print(f\"Con un 95% de credibilidad, se puede interpretar que existe una probabilidad del 95% de que el parámetro θ se encuentre entre {ci_lower:.4f} y {ci_upper:.4f}.\")"
      ],
      "metadata": {
        "colab": {
          "base_uri": "https://localhost:8080/"
        },
        "id": "mCB2EIOspavw",
        "outputId": "2ca53a54-6386-45fb-f5d3-55cd112b3e4c"
      },
      "execution_count": 8,
      "outputs": [
        {
          "output_type": "stream",
          "name": "stdout",
          "text": [
            "Intervalo de credibilidad 95%: [0.0669, 0.1894]\n",
            "Con un 95% de credibilidad, se puede interpretar que existe una probabilidad del 95% de que el parámetro θ se encuentre entre 0.0669 y 0.1894.\n"
          ]
        }
      ]
    },
    {
      "cell_type": "code",
      "source": [
        "# Gráfico de la distribución posterior y el intervalo de credibilidad\n",
        "theta_values = np.linspace(0, 0.3, 1000)\n",
        "posterior_pdf = beta.pdf(theta_values, dis_post_form, dis_post_tasa)\n",
        "\n",
        "plt.figure(figsize=(8, 4))\n",
        "plt.plot(theta_values, posterior_pdf, label=\"Posterior Beta({}, {})\".format(dis_post_form, dis_post_tasa))\n",
        "plt.axvline(bayes_estimator, color='red', linestyle='--',\n",
        "            label=\"Media Posterior: {:.4f}\".format(bayes_estimator))\n",
        "plt.fill_between(theta_values, posterior_pdf,\n",
        "                 where=(theta_values >= ci_lower) & (theta_values <= ci_upper),\n",
        "                 color='gray', alpha=0.5, label=\"IC 95%\")\n",
        "plt.xlabel(r'$\\theta$')\n",
        "plt.ylabel('Densidad')\n",
        "plt.legend()\n",
        "plt.title(\"Distribución Posterior de $\\\\theta$\")\n",
        "plt.show()"
      ],
      "metadata": {
        "colab": {
          "base_uri": "https://localhost:8080/",
          "height": 412
        },
        "id": "6-ec3s7DqflR",
        "outputId": "17226bb1-f049-48fa-fdaa-b46d3cd1a4db"
      },
      "execution_count": 9,
      "outputs": [
        {
          "output_type": "display_data",
          "data": {
            "text/plain": [
              "<Figure size 800x400 with 1 Axes>"
            ],
            "image/png": "[encoded data removed]"
          },
          "metadata": {}
        }
      ]
    },
    {
      "cell_type": "markdown",
      "source": [
        "**Actividad 3**  \n",
        "Una empresa aseguradora con 15.000 clientes quiere estimar la tasa de reclamaciones falsas anuales.\n",
        "Se contrata a un experto para llevar a cabo un estudio, quien considerando toda la información\n",
        "disponible decide modelizar la tasa de reclamaciones falsas siguiendo una\n",
        "Beta(a, b) de **hiperparámetros a y b desconocidos.**  \n",
        "Se seleccionan 50 reclamaciones aleatoriamente y no se observa ninguna reclamación falsa.\n",
        "Consideramos una media de 0,05 y una moda de 0,03.  \n",
        "a) ¿Cuál es el valor de los hiperparámetros a y b?  \n",
        "b) Calcula 2 estimadores puntuales bayesianos del parámetro 𝜃𝜃.  \n",
        "c) Calcular un intervalo bayesiano de credibilidad con probabilidad 95% e interpreta su resultado."
      ],
      "metadata": {
        "id": "RPb9BgPorQcr"
      }
    },
    {
      "cell_type": "code",
      "source": [
        "# a) ¿Cuál es el valor de los hiperparámetros a y b?\n",
        "\n",
        "\n",
        "n = 50     # Total de reclamaciones en la muestra\n",
        "x = 0      # Número de reclamaciones falsas observadas\n",
        "# Distribución muestral:(50, 0)\n",
        "\n",
        "media = 0.05\n",
        "moda = 0.03\n",
        "\n",
        "# Definir la variable simbólica para M (a + b)\n",
        "M = sp.symbols('M', positive=True)\n",
        "\n",
        "\n",
        "# Relación de la media: a/(a+b) = media  =>  a = media * M.\n",
        "# Relación de la moda: (a - 1)/(M - 2) = moda, con a = media*M.\n",
        "# Esto da la ecuación: media*M - 1 = moda*(M - 2)\n",
        "equation = sp.Eq(media * M - 1, moda * (M - 2))\n",
        "\n",
        "# Resolver la ecuación para M\n",
        "solution_M = sp.solve(equation, M)\n",
        "M_value = solution_M[0]\n",
        "\n",
        "# Calcular a y b\n",
        "a_value = media * M_value\n",
        "b_value = M_value - a_value\n",
        "\n",
        "print(\"M (a + b) ={:.4f}\".format(M_value))\n",
        "print(\"Hiperparámetro a ={:.4f}\".format(a_value))\n",
        "print(\"Hiperparámetro b ={:.4f}\".format( b_value))\n"
      ],
      "metadata": {
        "colab": {
          "base_uri": "https://localhost:8080/"
        },
        "id": "oLFU-8WDtNyy",
        "outputId": "ed07679c-895c-44db-9c50-dd181677ab5a"
      },
      "execution_count": 10,
      "outputs": [
        {
          "output_type": "stream",
          "name": "stdout",
          "text": [
            "M (a + b) =47.0000\n",
            "Hiperparámetro a =2.3500\n",
            "Hiperparámetro b =44.6500\n"
          ]
        }
      ]
    },
    {
      "cell_type": "code",
      "source": [
        "#b) Calcula 2 estimadores puntuales bayesianos del parámetro 𝜃𝜃.\n",
        "# Actualización de la distribución posterior:\n",
        "a_post = a_value + x         # a_post = 2.35 + 0 = 2.35\n",
        "b_post = b_value + n - x     # b_post = 44.65 + 50 - 0 = 94.65\n",
        "\n",
        "print(\"Posterior: Beta({:.4f}, {:.4f})\".format(a_post, b_post))\n",
        "\n",
        "\n",
        "\n",
        "# Utilizamos la media posterior es óptimo bajo pérdida cuadrática porque minimiza el error esperado.\n",
        "theta_mean = a_post / (a_post + b_post)\n",
        "\n",
        "# La moda se elige bajo pérdida 0-1 ya que maximiza la probabilidad de acierto al representar el valor más probable de θ.\n",
        "theta_mode = (a_post - 1) / (a_post + b_post - 2)\n",
        "\n",
        "\n",
        "print(\"Estimador Bayesiano (Media Posterior): {:.4f}\".format(theta_mean))\n",
        "print(\"Estimador Bayesiano (Moda Posterior): {:.4f}\".format(theta_mode))"
      ],
      "metadata": {
        "colab": {
          "base_uri": "https://localhost:8080/"
        },
        "id": "R7d2yk-A9GrH",
        "outputId": "e1580544-de4d-42ed-ce0e-13195b9268b0"
      },
      "execution_count": 11,
      "outputs": [
        {
          "output_type": "stream",
          "name": "stdout",
          "text": [
            "Posterior: Beta(2.3500, 94.6500)\n",
            "Estimador Bayesiano (Media Posterior): 0.0242\n",
            "Estimador Bayesiano (Moda Posterior): 0.0142\n"
          ]
        }
      ]
    },
    {
      "cell_type": "code",
      "source": [
        "# c) Calcular un intervalo bayesiano de credibilidad con probabilidad 95% e interpreta su resultado.\n",
        "a_post = float(a_post)\n",
        "b_post = float(b_post)\n",
        "\n",
        "# Cálculo de los cuantiles 2.5% y 97.5% de la distribución posterior\n",
        "ci_lower = beta.ppf(0.025, a_post, b_post)\n",
        "ci_upper = beta.ppf(0.975, a_post, b_post)\n",
        "\n",
        "print(\"Intervalo de credibilidad 95%: [{:.4f}, {:.4f}]\".format(ci_lower, ci_upper))\n",
        "\n",
        "print(f\"Existe un 95% de probabilidad de que el valor real de θ se encuentre entre el límite inferior ({ci_lower:.4f}) y el límite superior ({ci_upper:.4f})\")\n"
      ],
      "metadata": {
        "colab": {
          "base_uri": "https://localhost:8080/"
        },
        "id": "WYhTBBXX_sX3",
        "outputId": "6b8ae0c1-d597-4559-e132-14bd104ae4a4"
      },
      "execution_count": 12,
      "outputs": [
        {
          "output_type": "stream",
          "name": "stdout",
          "text": [
            "Intervalo de credibilidad 95%: [0.0038, 0.0627]\n",
            "Existe un 95% de probabilidad de que el valor real de θ se encuentre entre el límite inferior (0.0038) y el límite superior (0.0627)\n"
          ]
        }
      ]
    },
    {
      "cell_type": "markdown",
      "source": [
        "**Actividad 4**  \n",
        "Una determinada marca asegura que el 95% de sus coches no necesitarán reparación durante los 3 años de garantía. Esta creencia se puede modelizar mediante una Beta(a,b) con hiperparámetros a=4,75 y b=0,25.  \n",
        "El comercial es muy persuasivo de modo que acabamos comprando 20 vehículos de dicha marca para nuestra empresa, de los cuales 12 de ellos requieren reparación durante el periodo de garantía indicado.  \n",
        "a) Calcula los 3 estimadores puntuales bayesianos que hemos estudiado en clase.  \n",
        "b) Realiza una estimación por intervalos con probabilidad 95%"
      ],
      "metadata": {
        "id": "jC29u8VbCDgZ"
      }
    },
    {
      "cell_type": "code",
      "source": [
        "# a) Calcula los 3 estimadores puntuales bayesianos que hemos estudiado en clase.\n",
        "\n",
        "n = 20                     # Vehículos comprados\n",
        "x = 20 - 12                # Vehículos que NO requieren reparación (éxitos)\n",
        "# x = 8\n",
        "\n",
        "# Prior: Probabilidad de que un coche no requiera reparación\n",
        "a_prior = 4.75\n",
        "b_prior = 0.25\n",
        "\n",
        "# Distribución posterior (conjugación para la Binomial con prior Beta)\n",
        "a_post = a_prior + x       # 4.75 + 8 = 12.75\n",
        "b_post = b_prior + (n - x)   # 0.25 + 12 = 12.25\n",
        "\n",
        "print(\"Distribución posterior: Beta({:.2f}, {:.2f})\".format(a_post, b_post))\n",
        "\n",
        "# a) Calcula los 3 estimadores puntuales bayesianos que hemos estudiado en clase.\n",
        "\n",
        "# 1. Media posterior (óptima bajo pérdida cuadrática)\n",
        "theta_mean = a_post / (a_post + b_post)\n",
        "\n",
        "# 2. Moda posterior (óptima bajo pérdida 0-1), válida si a_post > 1 y b_post > 1\n",
        "theta_mode = (a_post - 1) / (a_post + b_post - 2)\n",
        "\n",
        "# 3. Mediana posterior (óptima bajo pérdida absoluta), se calcula numéricamente\n",
        "theta_median = beta.ppf(0.5, a_post, b_post)\n",
        "\n",
        "print(\"Estimador Bayesiano (Media): {:.4f}\".format(theta_mean))\n",
        "print(\"Estimador Bayesiano (Moda): {:.4f}\".format(theta_mode))\n",
        "print(\"Estimador Bayesiano (Mediana): {:.4f}\".format(theta_median))\n",
        "\n",
        "\n"
      ],
      "metadata": {
        "colab": {
          "base_uri": "https://localhost:8080/"
        },
        "id": "t5Ob7E89DBAR",
        "outputId": "2995095c-cde2-4971-8589-f843959f50b5"
      },
      "execution_count": 13,
      "outputs": [
        {
          "output_type": "stream",
          "name": "stdout",
          "text": [
            "Distribución posterior: Beta(12.75, 12.25)\n",
            "Estimador Bayesiano (Media): 0.5100\n",
            "Estimador Bayesiano (Moda): 0.5109\n",
            "Estimador Bayesiano (Mediana): 0.5103\n"
          ]
        }
      ]
    },
    {
      "cell_type": "code",
      "source": [
        "\n",
        "# b) Realiza una estimación por intervalos con probabilidad 95%\n",
        "\n",
        "ci_lower = beta.ppf(0.025, a_post, b_post)\n",
        "ci_upper = beta.ppf(0.975, a_post, b_post)\n",
        "\n",
        "print(\"Intervalo de credibilidad 95%: [{:.4f}, {:.4f}]\".format(ci_lower, ci_upper))\n",
        "print(f\"Existe un 95% de probabilidad de que el valor real de θ se encuentre entre {ci_lower:.4f} y {ci_upper:.4f}.\")\n",
        "\n",
        "# Visualización de la distribución posterior\n",
        "theta_vals = np.linspace(0, 1, 1000)\n",
        "posterior_pdf = beta.pdf(theta_vals, a_post, b_post)\n",
        "\n",
        "plt.figure(figsize=(8, 4))\n",
        "plt.plot(theta_vals, posterior_pdf, label=f\"Posterior Beta({a_post:.2f}, {b_post:.2f})\")\n",
        "plt.axvline(theta_mean, color='r', linestyle='--', label=f\"Media = {theta_mean:.4f}\")\n",
        "plt.axvline(theta_mode, color='m', linestyle='--', label=f\"Moda = {theta_mode:.4f}\")\n",
        "plt.axvline(theta_median, color='g', linestyle='--', label=f\"Mediana = {theta_median:.4f}\")\n",
        "plt.fill_between(theta_vals, posterior_pdf, where=(theta_vals >= ci_lower) & (theta_vals <= ci_upper),\n",
        "                 color='gray', alpha=0.5, label=f\"IC 95% [{ci_lower:.4f}, {ci_upper:.4f}]\")\n",
        "plt.xlabel(r'$\\theta$ (Probabilidad de que un coche no requiera reparación)')\n",
        "plt.ylabel('Densidad')\n",
        "plt.title(\"Distribución Posterior de $\\theta$\")\n",
        "plt.legend()\n",
        "plt.show()"
      ],
      "metadata": {
        "colab": {
          "base_uri": "https://localhost:8080/",
          "height": 451
        },
        "id": "KTzeP-SjDD3v",
        "outputId": "0f0d73f0-3e7d-4c00-aebc-8fa05ea3c34a"
      },
      "execution_count": 14,
      "outputs": [
        {
          "output_type": "stream",
          "name": "stdout",
          "text": [
            "Intervalo de credibilidad 95%: [0.3188, 0.6996]\n",
            "Existe un 95% de probabilidad de que el valor real de θ se encuentre entre 0.3188 y 0.6996.\n"
          ]
        },
        {
          "output_type": "display_data",
          "data": {
            "text/plain": [
              "<Figure size 800x400 with 1 Axes>"
            ],
            "image/png": "[encoded data removed]"
          },
          "metadata": {}
        }
      ]
    },
    {
      "cell_type": "markdown",
      "source": [
        "**Actividad 5**  \n",
        "Pregunta teórica:  \n",
        "Explica de la manera más breve posible la principal diferencia entre:\n",
        "- Estimación puntual frecuentista y estimación puntual bayesiana.\n",
        "- Intervalo de confianza frecuentista y un intervalo de credibilidad bayesiano.\n",
        "\n",
        "**Estimación puntual frecuentista vs. bayesiana:**\n",
        "\n",
        "La estimación frecuentista es un valor fijo obtenido de los datos observados)muestra).\n",
        "La estimación bayesiana es un valor de la distribución posterior, que se obtiene con la distribución muestral(datos objetivos) y previa(datos subjetivos).\n",
        "\n",
        "**Intervalo de confianza frecuentista vs. intervalo de credibilidad bayesiano:**\n",
        "\n",
        "El intervalo de confianza frecuentista es un rango quese obtiene al repetir un experimento en condiciones controladas en un porcentaje ficjo(p.ej. 95%).  \n",
        "El intervalo de credibilidad bayesiano es un rango que indica la probabilidad (p.ej. 95%)de que el parámetro se encuentre dentro del intervalo, utilizando la distribución muestral(datos objetivos) y previa(datos subjetivos)"
      ],
      "metadata": {
        "id": "gBK-zEy0YKEL"
      }
    },
    {
      "cell_type": "markdown",
      "source": [
        "**EJEMPLO**  \n",
        "Para aclarar estas diferencias realizaremos un ejemplo práctico utilizando los mismos datos, calculando la proporción de personas con colesterol alto en Gran Canaria mediante ambos enfoques (frecuentista y bayesiano)."
      ],
      "metadata": {
        "id": "x72viXz1eXzI"
      }
    },
    {
      "cell_type": "code",
      "source": [
        "!pip install pymc arviz\n",
        "import pandas as pd\n",
        "import numpy as np\n",
        "from scipy.stats import beta, binom\n",
        "import pymc as pm\n",
        "import arviz as az\n"
      ],
      "metadata": {
        "id": "jA-WNVlRYbtU"
      },
      "execution_count": null,
      "outputs": []
    },
    {
      "cell_type": "code",
      "source": [
        "from google.colab import drive\n",
        "drive.mount('/content/drive')\n",
        "datos = pd.read_csv(\"/content/c00035a_0453.csv\")\n",
        "\n",
        "# Estimación puntual e intervalo de confianza frecuentista\n",
        "# Filtrar datos para la región seleccionada\n",
        "region = 'Gran Canaria - Área Metropolitana'\n",
        "\n",
        "region_data = datos[\n",
        "    (datos['comarcas_islas_nombre'] == region) &\n",
        "    (datos['indicadores_nombre'] == 'Absoluto')\n",
        "]\n",
        "\n",
        "# Obtener número de personas con colesterol alto ('Sí') y total\n",
        "colesterol_alto = region_data[region_data['medicion_nivel_colesterol_nombre'] == 'Sí']['poblacion_menor_16_anios'].values[0]\n",
        "total_poblacion = region_data[region_data['medicion_nivel_colesterol_nombre'] == 'Total']['poblacion_menor_16_anios'].values[0]\n",
        "\n",
        "print(f\"Colesterol alto: {colesterol_alto}\")\n",
        "print(f\"Total población: {total_poblacion}\")\n",
        "\n"
      ],
      "metadata": {
        "colab": {
          "base_uri": "https://localhost:8080/"
        },
        "id": "z9Fa7aEOYog0",
        "outputId": "7fc5e006-c695-410a-d093-53a98f7f9bb9"
      },
      "execution_count": 16,
      "outputs": [
        {
          "output_type": "stream",
          "name": "stdout",
          "text": [
            "Mounted at /content/drive\n",
            "Colesterol alto: 43881.0\n",
            "Total población: 87251.0\n"
          ]
        }
      ]
    },
    {
      "cell_type": "code",
      "source": [
        "\n",
        "\n",
        "from statsmodels.stats.proportion import proportion_confint\n",
        "\n",
        "# Estimación puntual\n",
        "proporcion_frec = colesterol_alto / total_poblacion\n",
        "\n",
        "# Intervalo de confianza del 95%\n",
        "ic_low, ic_high = proportion_confint(count=colesterol_alto, nobs=total_poblacion, alpha=0.05, method='wilson')\n",
        "\n",
        "print(f\"Proporción frecuentista estimada: {proporcion_frec:.4f}\")\n",
        "print(f\"Intervalo de confianza 95%: [{ic_low:.4f}, {ic_high:.4f}]\")\n"
      ],
      "metadata": {
        "colab": {
          "base_uri": "https://localhost:8080/"
        },
        "id": "ig6Q1RDYZBw1",
        "outputId": "ba75c174-8ef4-46ac-f230-a783e9daaf37"
      },
      "execution_count": 17,
      "outputs": [
        {
          "output_type": "stream",
          "name": "stdout",
          "text": [
            "Proporción frecuentista estimada: 0.5029\n",
            "Intervalo de confianza 95%: [0.4996, 0.5062]\n"
          ]
        }
      ]
    },
    {
      "cell_type": "code",
      "source": [
        "# Estimación puntual e intervalo de credibilidad bayesiano\n",
        "\n",
        "# Modelo Bayesiano con PyMC\n",
        "with pm.Model() as modelo_bayesiano:\n",
        "    # Distribución previa Beta(1,1)\n",
        "    p = pm.Beta('p', alpha=1, beta=1)\n",
        "\n",
        "    # Modelo de verosimilitud Binomial\n",
        "    observacion = pm.Binomial('observacion', n=total_poblacion, p=p, observed=colesterol_alto)\n",
        "\n",
        "    # Muestreo posterior\n",
        "    posterior = pm.sample(2000, return_inferencedata=True, cores=2)\n",
        "\n",
        "# Resumen de resultados Bayesianos\n",
        "az.summary(posterior, hdi_prob=0.95)\n",
        "\n"
      ],
      "metadata": {
        "colab": {
          "base_uri": "https://localhost:8080/",
          "height": 177,
          "referenced_widgets": [
            "27bcb364932c46e89a3b7e322f25a5ae",
            "ef0bd1b91a3e47528e56a64165378bab"
          ]
        },
        "id": "xPMMbLiXZKsz",
        "outputId": "b606c2c7-e843-4db1-af7a-ec2850a5dc4d"
      },
      "execution_count": 18,
      "outputs": [
        {
          "output_type": "display_data",
          "data": {
            "text/plain": [
              "Output()"
            ],
            "application/vnd.jupyter.widget-view+json": {
              "version_major": 2,
              "version_minor": 0,
              "model_id": "27bcb364932c46e89a3b7e322f25a5ae"
            }
          },
          "metadata": {}
        },
        {
          "output_type": "display_data",
          "data": {
            "text/plain": [],
            "text/html": [
              "<pre style=\"white-space:pre;overflow-x:auto;line-height:normal;font-family:Menlo,'DejaVu Sans Mono',consolas,'Courier New',monospace\"></pre>\n"
            ]
          },
          "metadata": {}
        },
        {
          "output_type": "execute_result",
          "data": {
            "text/plain": [
              "    mean     sd  hdi_2.5%  hdi_97.5%  mcse_mean  mcse_sd  ess_bulk  ess_tail  \\\n",
              "p  0.503  0.002       0.5      0.506        0.0      0.0    1817.0    2823.0   \n",
              "\n",
              "   r_hat  \n",
              "p    1.0  "
            ],
            "text/html": [
              "\n",
              "  <div id=\"df-e79e13f5-5c49-4a2e-87bf-bc95966d83c0\" class=\"colab-df-container\">\n",
              "    <div>\n",
              "<style scoped>\n",
              "    .dataframe tbody tr th:only-of-type {\n",
              "        vertical-align: middle;\n",
              "    }\n",
              "\n",
              "    .dataframe tbody tr th {\n",
              "        vertical-align: top;\n",
              "    }\n",
              "\n",
              "    .dataframe thead th {\n",
              "        text-align: right;\n",
              "    }\n",
              "</style>\n",
              "<table border=\"1\" class=\"dataframe\">\n",
              "  <thead>\n",
              "    <tr style=\"text-align: right;\">\n",
              "      <th></th>\n",
              "      <th>mean</th>\n",
              "      <th>sd</th>\n",
              "      <th>hdi_2.5%</th>\n",
              "      <th>hdi_97.5%</th>\n",
              "      <th>mcse_mean</th>\n",
              "      <th>mcse_sd</th>\n",
              "      <th>ess_bulk</th>\n",
              "      <th>ess_tail</th>\n",
              "      <th>r_hat</th>\n",
              "    </tr>\n",
              "  </thead>\n",
              "  <tbody>\n",
              "    <tr>\n",
              "      <th>p</th>\n",
              "      <td>0.503</td>\n",
              "      <td>0.002</td>\n",
              "      <td>0.5</td>\n",
              "      <td>0.506</td>\n",
              "      <td>0.0</td>\n",
              "      <td>0.0</td>\n",
              "      <td>1817.0</td>\n",
              "      <td>2823.0</td>\n",
              "      <td>1.0</td>\n",
              "    </tr>\n",
              "  </tbody>\n",
              "</table>\n",
              "</div>\n",
              "    <div class=\"colab-df-buttons\">\n",
              "\n",
              "  <div class=\"colab-df-container\">\n",
              "    <button class=\"colab-df-convert\" onclick=\"convertToInteractive('df-e79e13f5-5c49-4a2e-87bf-bc95966d83c0')\"\n",
              "            title=\"Convert this dataframe to an interactive table.\"\n",
              "            style=\"display:none;\">\n",
              "\n",
              "  <svg xmlns=\"http://www.w3.org/2000/svg\" height=\"24px\" viewBox=\"0 -960 960 960\">\n",
              "    <path d=\"M120-120v-720h720v720H120Zm60-500h600v-160H180v160Zm220 220h160v-160H400v160Zm0 220h160v-160H400v160ZM180-400h160v-160H180v160Zm440 0h160v-160H620v160ZM180-180h160v-160H180v160Zm440 0h160v-160H620v160Z\"/>\n",
              "  </svg>\n",
              "    </button>\n",
              "\n",
              "  <style>\n",
              "    .colab-df-container {\n",
              "      display:flex;\n",
              "      gap: 12px;\n",
              "    }\n",
              "\n",
              "    .colab-df-convert {\n",
              "      background-color: #E8F0FE;\n",
              "      border: none;\n",
              "      border-radius: 50%;\n",
              "      cursor: pointer;\n",
              "      display: none;\n",
              "      fill: #1967D2;\n",
              "      height: 32px;\n",
              "      padding: 0 0 0 0;\n",
              "      width: 32px;\n",
              "    }\n",
              "\n",
              "    .colab-df-convert:hover {\n",
              "      background-color: #E2EBFA;\n",
              "      box-shadow: 0px 1px 2px rgba(60, 64, 67, 0.3), 0px 1px 3px 1px rgba(60, 64, 67, 0.15);\n",
              "      fill: #174EA6;\n",
              "    }\n",
              "\n",
              "    .colab-df-buttons div {\n",
              "      margin-bottom: 4px;\n",
              "    }\n",
              "\n",
              "    [theme=dark] .colab-df-convert {\n",
              "      background-color: #3B4455;\n",
              "      fill: #D2E3FC;\n",
              "    }\n",
              "\n",
              "    [theme=dark] .colab-df-convert:hover {\n",
              "      background-color: #434B5C;\n",
              "      box-shadow: 0px 1px 3px 1px rgba(0, 0, 0, 0.15);\n",
              "      filter: drop-shadow(0px 1px 2px rgba(0, 0, 0, 0.3));\n",
              "      fill: #FFFFFF;\n",
              "    }\n",
              "  </style>\n",
              "\n",
              "    <script>\n",
              "      const buttonEl =\n",
              "        document.querySelector('#df-e79e13f5-5c49-4a2e-87bf-bc95966d83c0 button.colab-df-convert');\n",
              "      buttonEl.style.display =\n",
              "        google.colab.kernel.accessAllowed ? 'block' : 'none';\n",
              "\n",
              "      async function convertToInteractive(key) {\n",
              "        const element = document.querySelector('#df-e79e13f5-5c49-4a2e-87bf-bc95966d83c0');\n",
              "        const dataTable =\n",
              "          await google.colab.kernel.invokeFunction('convertToInteractive',\n",
              "                                                    [key], {});\n",
              "        if (!dataTable) return;\n",
              "\n",
              "        const docLinkHtml = 'Like what you see? Visit the ' +\n",
              "          '<a target=\"_blank\" href=https://colab.research.google.com/notebooks/data_table.ipynb>data table notebook</a>'\n",
              "          + ' to learn more about interactive tables.';\n",
              "        element.innerHTML = '';\n",
              "        dataTable['output_type'] = 'display_data';\n",
              "        await google.colab.output.renderOutput(dataTable, element);\n",
              "        const docLink = document.createElement('div');\n",
              "        docLink.innerHTML = docLinkHtml;\n",
              "        element.appendChild(docLink);\n",
              "      }\n",
              "    </script>\n",
              "  </div>\n",
              "\n",
              "\n",
              "    </div>\n",
              "  </div>\n"
            ],
            "application/vnd.google.colaboratory.intrinsic+json": {
              "type": "dataframe",
              "summary": "{\n  \"name\": \"az\",\n  \"rows\": 1,\n  \"fields\": [\n    {\n      \"column\": \"mean\",\n      \"properties\": {\n        \"dtype\": \"number\",\n        \"std\": null,\n        \"min\": 0.503,\n        \"max\": 0.503,\n        \"num_unique_values\": 1,\n        \"samples\": [\n          0.503\n        ],\n        \"semantic_type\": \"\",\n        \"description\": \"\"\n      }\n    },\n    {\n      \"column\": \"sd\",\n      \"properties\": {\n        \"dtype\": \"number\",\n        \"std\": null,\n        \"min\": 0.002,\n        \"max\": 0.002,\n        \"num_unique_values\": 1,\n        \"samples\": [\n          0.002\n        ],\n        \"semantic_type\": \"\",\n        \"description\": \"\"\n      }\n    },\n    {\n      \"column\": \"hdi_2.5%\",\n      \"properties\": {\n        \"dtype\": \"number\",\n        \"std\": null,\n        \"min\": 0.5,\n        \"max\": 0.5,\n        \"num_unique_values\": 1,\n        \"samples\": [\n          0.5\n        ],\n        \"semantic_type\": \"\",\n        \"description\": \"\"\n      }\n    },\n    {\n      \"column\": \"hdi_97.5%\",\n      \"properties\": {\n        \"dtype\": \"number\",\n        \"std\": null,\n        \"min\": 0.506,\n        \"max\": 0.506,\n        \"num_unique_values\": 1,\n        \"samples\": [\n          0.506\n        ],\n        \"semantic_type\": \"\",\n        \"description\": \"\"\n      }\n    },\n    {\n      \"column\": \"mcse_mean\",\n      \"properties\": {\n        \"dtype\": \"number\",\n        \"std\": null,\n        \"min\": 0.0,\n        \"max\": 0.0,\n        \"num_unique_values\": 1,\n        \"samples\": [\n          0.0\n        ],\n        \"semantic_type\": \"\",\n        \"description\": \"\"\n      }\n    },\n    {\n      \"column\": \"mcse_sd\",\n      \"properties\": {\n        \"dtype\": \"number\",\n        \"std\": null,\n        \"min\": 0.0,\n        \"max\": 0.0,\n        \"num_unique_values\": 1,\n        \"samples\": [\n          0.0\n        ],\n        \"semantic_type\": \"\",\n        \"description\": \"\"\n      }\n    },\n    {\n      \"column\": \"ess_bulk\",\n      \"properties\": {\n        \"dtype\": \"number\",\n        \"std\": null,\n        \"min\": 1817.0,\n        \"max\": 1817.0,\n        \"num_unique_values\": 1,\n        \"samples\": [\n          1817.0\n        ],\n        \"semantic_type\": \"\",\n        \"description\": \"\"\n      }\n    },\n    {\n      \"column\": \"ess_tail\",\n      \"properties\": {\n        \"dtype\": \"number\",\n        \"std\": null,\n        \"min\": 2823.0,\n        \"max\": 2823.0,\n        \"num_unique_values\": 1,\n        \"samples\": [\n          2823.0\n        ],\n        \"semantic_type\": \"\",\n        \"description\": \"\"\n      }\n    },\n    {\n      \"column\": \"r_hat\",\n      \"properties\": {\n        \"dtype\": \"number\",\n        \"std\": null,\n        \"min\": 1.0,\n        \"max\": 1.0,\n        \"num_unique_values\": 1,\n        \"samples\": [\n          1.0\n        ],\n        \"semantic_type\": \"\",\n        \"description\": \"\"\n      }\n    }\n  ]\n}"
            }
          },
          "metadata": {},
          "execution_count": 18
        }
      ]
    },
    {
      "cell_type": "code",
      "source": [
        "# Intervalo de credibilidad (95%) y estimación puntual (media posterior)\n",
        "estimacion_bayes = posterior.posterior['p'].mean().values\n",
        "hdi_bayes = az.hdi(posterior, hdi_prob=0.95)['p'].values\n",
        "\n",
        "print(f\"Proporción bayesiana estimada: {estimacion_bayes:.4f}\")\n",
        "print(f\"Intervalo de credibilidad 95%: [{hdi_bayes[0]:.4f}, {hdi_bayes[1]:.4f}]\")\n"
      ],
      "metadata": {
        "colab": {
          "base_uri": "https://localhost:8080/"
        },
        "id": "pAqxa0NTZtO2",
        "outputId": "a4504625-fa27-4115-b226-69ab84b0d393"
      },
      "execution_count": 19,
      "outputs": [
        {
          "output_type": "stream",
          "name": "stdout",
          "text": [
            "Proporción bayesiana estimada: 0.5030\n",
            "Intervalo de credibilidad 95%: [0.4997, 0.5063]\n"
          ]
        }
      ]
    }
  ]
}