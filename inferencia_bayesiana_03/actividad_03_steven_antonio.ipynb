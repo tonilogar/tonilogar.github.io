{
  "nbformat": 4,
  "nbformat_minor": 0,
  "metadata": {
    "colab": {
      "provenance": []
    },
    "kernelspec": {
      "name": "python3",
      "display_name": "Python 3"
    },
    "language_info": {
      "name": "python"
    }
  },
  "cells": [
    {
      "cell_type": "markdown",
      "source": [
        "**Actividad 1**  \n",
        "Un determinado medio de comunicación desea llevar a cabo un estudio para saber\n",
        "cuál es el interés que despierta entre sus lectores las noticias relacionadas\n",
        "directamente con conflictos bélicos. Para ello contabilizará el número de visitas en su canal de comunicación online. El número de visitas sigue una distribución Poisson(𝜃). El estudio se realizó durante 10 meses y el número medio de visitas mensuales fueron las siguientes: 320, 360, 950, 400, 370, 75, 725, 120, 380, 375.  \n",
        "Se desea contrastar:  \n",
        "𝐻0: 𝜃=340  \n",
        "𝐻1: 𝜃 = 450  \n",
        "Previa no informativa 𝑝(𝐻0) = 𝑝(𝐻1) = 0′5."
      ],
      "metadata": {
        "id": "YgH7RdcanV8w"
      }
    },
    {
      "cell_type": "code",
      "source": [
        "!pip install rpy2\n",
        "%load_ext rpy2.ipython\n"
      ],
      "metadata": {
        "id": "MYTW3o7VohGK"
      },
      "execution_count": null,
      "outputs": []
    },
    {
      "cell_type": "code",
      "source": [
        "%%R\n",
        "# Datos observados\n",
        "visitas <- c(320, 360, 950, 400, 370, 75, 725, 120, 380, 375)\n",
        "n <- length(visitas)\n",
        "sum_y <- sum(visitas)\n",
        "mean_y <- mean(visitas)\n",
        "\n",
        "# Parámetros bajo cada hipótesis\n",
        "theta0 <- 340\n",
        "theta1 <- 450\n",
        "\n",
        "# Para Poisson, el log de la verosimilitud es:\n",
        "# log(L(theta)) = -n*theta + sum(y)*log(theta) - sum(log(y!))\n",
        "# Donde el último término es constante en ambas hipótesis y podemos omitirlo\n",
        "\n",
        "log_lik_H0 <- -n*theta0 + sum_y*log(theta0)\n",
        "log_lik_H1 <- -n*theta1 + sum_y*log(theta1)\n",
        "\n",
        "# Factor de Bayes en escala logarítmica\n",
        "log_B10 <- log_lik_H1 - log_lik_H0\n",
        "\n",
        "# Convertir a escala normal (con cuidado para evitar desbordamiento)\n",
        "if(abs(log_B10) > 700) {  # Límite para evitar problemas numéricos\n",
        "  B10 <- ifelse(log_B10 > 0, Inf, 0)\n",
        "} else {\n",
        "  B10 <- exp(log_B10)\n",
        "}\n",
        "\n",
        "# Probabilidades a posteriori\n",
        "p_H0_prior <- 0.5\n",
        "p_H1_prior <- 0.5\n",
        "\n",
        "# Cálculo seguro de probabilidades posteriores\n",
        "if(is.infinite(B10)) {\n",
        "  p_H0_post <- 0\n",
        "  p_H1_post <- 1\n",
        "} else if(B10 == 0) {\n",
        "  p_H0_post <- 1\n",
        "  p_H1_post <- 0\n",
        "} else {\n",
        "  p_H0_post <- 1/(1 + B10 * (p_H1_prior/p_H0_prior))\n",
        "  p_H1_post <- 1 - p_H0_post\n",
        "}\n",
        "\n",
        "# Resultados\n",
        "cat(\"Media muestral:\", mean_y, \"\\n\")\n",
        "cat(\"Log Factor de Bayes (log B10):\", log_B10, \"\\n\")\n",
        "cat(\"Factor de Bayes (B10):\", B10, \"\\n\")\n",
        "cat(\"Probabilidad a posteriori de H0:\", p_H0_post, \"\\n\")\n",
        "cat(\"Probabilidad a posteriori de H1:\", p_H1_post, \"\\n\")"
      ],
      "metadata": {
        "colab": {
          "base_uri": "https://localhost:8080/",
          "height": 0
        },
        "id": "jK4ZR81WnZ_F",
        "outputId": "609ca317-379c-4a35-f3fe-e43c0102802f"
      },
      "execution_count": 9,
      "outputs": [
        {
          "output_type": "stream",
          "name": "stdout",
          "text": [
            "Media muestral: 407.5 \n",
            "Log Factor de Bayes (log B10): 42.23051 \n",
            "Factor de Bayes (B10): 2.190164e+18 \n",
            "Probabilidad a posteriori de H0: 4.565869e-19 \n",
            "Probabilidad a posteriori de H1: 1 \n"
          ]
        }
      ]
    },
    {
      "cell_type": "markdown",
      "source": [
        "**Actividad 2**  \n",
        "Un grupo de expertos sobre el Cambio Climático investigan sobre el calentamiento\n",
        "global. Disponen de i = 1, … . , 20 observaciones que se distribuyen 𝑦𝑖|𝜃~N(20, σ2).\n",
        "Los expertos están interesados en realizar el siguiente test de hipótesis y no\n",
        "disponen de información previa respecto a las hipótesis:\n",
        "\n",
        "𝐻0: σ2 =1  \n",
        "𝐻1 σ2 = 3\n",
        "\n",
        "Calcula el 𝐵10.  \n",
        "BASE DE DATOS:\n",
        "\n",
        "20.20, 18.48, 18.93, 19.40, 18.12, 19.18, 19.99, 18.79, 21.56, 21.63,  \n",
        "22.03, 19.38, 20.98, 19.44, 19.84, 19.87, 22.29, 21.43, 20.16, 22.16\n"
      ],
      "metadata": {
        "id": "gLRTLGTXgpgs"
      }
    },
    {
      "cell_type": "code",
      "execution_count": 8,
      "metadata": {
        "colab": {
          "base_uri": "https://localhost:8080/",
          "height": 0
        },
        "id": "5mnrzschgmln",
        "outputId": "44760d16-e453-4259-c0be-c0d3a128c4e5"
      },
      "outputs": [
        {
          "output_type": "stream",
          "name": "stdout",
          "text": [
            "SSE = 32.4188\n",
            "Bayes Factor B10 = 0.8354\n",
            "El factor bayes B10 es menor que 1,lo cual indica que, al comparar \n",
            "las verosimilitudes de los datos bajo ambas hipótesis,\n",
            "la evidencia respalda más la hipótesis H0, es decir, que la varianza σ² es igual a 1.\n"
          ]
        }
      ],
      "source": [
        "import numpy as np\n",
        "\n",
        "\n",
        "# Observaciones\n",
        "datos = np.array([\n",
        "    20.20, 18.48, 18.93, 19.40, 18.12, 19.18, 19.99, 18.79,\n",
        "    21.56, 21.63, 22.03, 19.38, 20.98, 19.44, 19.84, 19.87,\n",
        "    22.29, 21.43, 20.16, 22.16\n",
        "])\n",
        "\n",
        "# Cada observación sigue una distribución normal: y_i ~ N(20, σ²)\n",
        "\n",
        "# Por eso, calculamos la suma de los cuadrados de las diferencias entre cada dato\n",
        "#y el valor 20.\n",
        "# SSE = sum((y_i - 20)²)\n",
        "SSE = np.sum((datos - 20) ** 2)\n",
        "print(\"SSE = {:.4f}\".format(SSE))\n",
        "\n",
        "#Calculamos el factor de bayes B10\n",
        "B10 = 3 ** (-10) * np.exp(SSE / 3)\n",
        "print(\"Bayes Factor B10 = {:.4f}\".format(B10))\n",
        "\n",
        "\n",
        "if B10 < 1:\n",
        "    print(\"El factor bayes B10 es menor que 1,lo cual indica que, al comparar \\nlas verosimilitudes de los datos bajo ambas hipótesis,\\nla evidencia respalda más la hipótesis H0, es decir, que la varianza σ² es igual a 1.\")\n",
        "\n",
        "else:\n",
        "    print(\"El factor bayes B10 es mayor que 1, lo que sugiere que los datos son \\nmás compatibles con la hipótesis H1, es decir, que la \\nvarianza σ² es igual a 3.\")\n"
      ]
    },
    {
      "cell_type": "markdown",
      "source": [
        "**Actividad 3**  \n",
        "Calcular la Distribución Predictiva Posterior del modelo Bernoulli-Bet(Binomial-Beta) para una observación futura y∗ = 0.  \n",
        "NOTA: en clase hemos calculado la distribución predictiva posterior para y∗ = 1."
      ],
      "metadata": {
        "id": "9c1iTDb9s9Mz"
      }
    },
    {
      "cell_type": "markdown",
      "source": [
        "Si queremos cuantificar nuestro estado de información acerca de una observación futura dado que ya tengo observaciones acerca de la realidad que estamos estudiando, deberíamos obtener la distribución predictiva ya que tiene por objetivo describir el comportamiento estocástico de una observación que no tuve la oportunidad de observar, dado que ya observé una base de datos.\n",
        "\n",
        "¿Cómo se escribe?\n",
        "y = y1, y2, ..., yn base de datos observados\n",
        "y* observación futura  \n",
        "\n",
        "yi siguen una Bernoulli con parámetro p.\n",
        "Prior de 𝑝:p ∼Beta(α,β)\n",
        "\n",
        "**Distribución posterior del parámetro 𝑝**  \n",
        "\n",
        "$$\n",
        "p(p \\mid y) \\sim \\text{Beta} \\left( \\alpha + \\sum_{i=1}^{n} y_i,\\ \\beta + n - \\sum_{i=1}^{n} y_i \\right)\n",
        "$$\n",
        "\n",
        "El objetivo es encontrar:  \n",
        "p(y* = 0 ∣ y).\n",
        "\n",
        "La distribución predictiva se obtiene con la verosimilitud de la nueva observación respecto a la distribución posterior del parámetro:  \n",
        "\n",
        "$$\n",
        "p(y^* \\mid y) = \\int p(y^* \\mid p)\\, p(p \\mid y)\\, dp.\n",
        "$$\n",
        "\n",
        "  $$\n",
        "p(y^* = 0 \\mid p) = 1 - p.\n",
        "$$\n",
        "  \n",
        "**La integral: **  \n",
        "\n",
        "$$\n",
        "I = \\int_0^1 (1 - p)\\, \\text{Beta}\\left(p;\\, \\alpha + \\sum y_i,\\, \\beta + n - \\sum y_i\\right) dp,\n",
        "$$\n",
        "**La integral corresponde a la esperanza de 1 - p bajo la distribución posterior.**\n",
        "$$\n",
        "I = \\mathbb{E}_{p \\mid y}[1 - p] = 1 - \\mathbb{E}_{p \\mid y}[p].\n",
        "$$\n",
        "  **Beta(a,b)**\n",
        "  $$\n",
        "\\mathbb{E}[p] = \\frac{a}{a + b}.\n",
        "$$\n",
        "\n",
        "$$\n",
        "a = \\alpha + \\sum_{i=1}^{n} y_i \\quad \\text{y} \\quad b = \\beta + n - \\sum_{i=1}^{n} y_i,\n",
        "$$\n",
        "$$\n",
        "\\mathbb{E}[p \\mid y] = \\frac{\\alpha + \\sum y_i}{\\alpha + \\beta + n}.\n",
        "$$\n",
        "\n",
        "$$\n",
        "p(y^* = 0 \\mid y) = 1 - \\frac{\\alpha + \\sum y_i}{\\alpha + \\beta + n} = \\frac{(\\alpha + \\beta + n) - (\\alpha + \\sum y_i)}{\\alpha + \\beta + n}.\n",
        "$$\n",
        " $$\n",
        "(\\alpha + \\beta + n) - \\left( \\alpha + \\sum y_i \\right) = \\beta + n - \\sum y_i.\n",
        "$$\n",
        "$$\n",
        "p(y^* = 0 \\mid y) = \\frac{\\beta + n - \\sum y_i}{\\alpha + \\beta + n}.\n",
        "$$\n"
      ],
      "metadata": {
        "id": "6vf4syZ3s_Lz"
      }
    },
    {
      "cell_type": "markdown",
      "source": [
        "**Actividad 4**  \n",
        "Calcula la Distribución Predictiva Posterior del Model Gamma-Poisson. Es importante justificar cada cálculo."
      ],
      "metadata": {
        "id": "qpHODUBe_-8d"
      }
    },
    {
      "cell_type": "code",
      "source": [
        "%%R\n",
        "# Modelo Gamma-Poisson para la distribución predictiva posterior\n",
        "gamma_poisson_pred_posterior <- function(y_star, alpha_prior, beta_prior, datos) {\n",
        "  # Parámetros posteriores para la distribución Gamma\n",
        "  n <- length(datos)\n",
        "  sum_y <- sum(datos)\n",
        "\n",
        "  alpha_post <- alpha_prior + sum_y\n",
        "  beta_post <- beta_prior + n\n",
        "\n",
        "  # Cálculo de la predictiva posterior para y*\n",
        "  # Para el modelo Gamma-Poisson, la predictiva posterior sigue una distribución\n",
        "  # Binomial Negativa con parámetros r = alpha_post y p = beta_post/(beta_post + 1)\n",
        "  r <- alpha_post\n",
        "  p <- beta_post/(beta_post + 1)\n",
        "\n",
        "  # Calculamos P(Y* = y_star)\n",
        "  prob <- dnbinom(y_star, size = r, prob = p)\n",
        "\n",
        "  # Información adicional para la interpretación\n",
        "  mean_pred <- r * (1-p)/p  # Media de la distribución predictiva posterior\n",
        "  var_pred <- r * (1-p)/(p^2)  # Varianza de la distribución predictiva posterior\n",
        "\n",
        "  return(list(\n",
        "    prob = prob,\n",
        "    mean = mean_pred,\n",
        "    variance = var_pred,\n",
        "    alpha_post = alpha_post,\n",
        "    beta_post = beta_post\n",
        "  ))\n",
        "}\n",
        "\n",
        "# Ejemplo con datos simulados\n",
        "set.seed(123)\n",
        "datos_ejemplo <- rpois(20, lambda = 5)  # 20 observaciones Poisson con lambda = 5\n",
        "\n",
        "# Parámetros previos\n",
        "alpha_prior <- 2\n",
        "beta_prior <- 1\n",
        "\n",
        "# Calculamos la predictiva posterior para diferentes valores de y*\n",
        "y_stars <- 0:15\n",
        "resultados <- sapply(y_stars, function(y) {\n",
        "  gamma_poisson_pred_posterior(y, alpha_prior, beta_prior, datos_ejemplo)$prob\n",
        "})\n",
        "\n",
        "# Mostramos los resultados\n",
        "resultados_df <- data.frame(\n",
        "  y_star = y_stars,\n",
        "  probabilidad = resultados\n",
        ")\n",
        "\n",
        "# Información general sobre el modelo\n",
        "info <- gamma_poisson_pred_posterior(0, alpha_prior, beta_prior, datos_ejemplo)\n",
        "\n",
        "cat(\"Datos:\", datos_ejemplo, \"\\n\")\n",
        "cat(\"Media muestral:\", mean(datos_ejemplo), \"\\n\")\n",
        "cat(\"Suma total:\", sum(datos_ejemplo), \"\\n\")\n",
        "cat(\"Número de observaciones:\", length(datos_ejemplo), \"\\n\\n\")\n",
        "\n",
        "cat(\"Parámetros previos: alpha =\", alpha_prior, \", beta =\", beta_prior, \"\\n\")\n",
        "cat(\"Parámetros posteriores: alpha =\", info$alpha_post, \", beta =\", info$beta_post, \"\\n\\n\")\n",
        "\n",
        "cat(\"Media de la distribución predictiva posterior:\", info$mean, \"\\n\")\n",
        "cat(\"Varianza de la distribución predictiva posterior:\", info$variance, \"\\n\\n\")\n",
        "\n",
        "print(resultados_df)\n",
        "\n",
        "# Visualización de la distribución predictiva posterior\n",
        "barplot(resultados_df$probabilidad, names.arg = resultados_df$y_star,\n",
        "        xlab = \"y*\", ylab = \"Probabilidad\",\n",
        "        main = \"Distribución Predictiva Posterior Gamma-Poisson\",\n",
        "        col = \"skyblue\")"
      ],
      "metadata": {
        "colab": {
          "base_uri": "https://localhost:8080/",
          "height": 983
        },
        "id": "zTTGu8-xAkAb",
        "outputId": "80dcbc9b-0f3e-4aa6-c0a4-91fdcfbfd73d"
      },
      "execution_count": 10,
      "outputs": [
        {
          "output_type": "stream",
          "name": "stdout",
          "text": [
            "Datos: 4 7 4 8 9 2 5 8 5 5 9 5 6 5 2 8 3 2 4 9 \n",
            "Media muestral: 5.5 \n",
            "Suma total: 110 \n",
            "Número de observaciones: 20 \n",
            "\n",
            "Parámetros previos: alpha = 2 , beta = 1 \n",
            "Parámetros posteriores: alpha = 112 , beta = 21 \n",
            "\n",
            "Media de la distribución predictiva posterior: 5.333333 \n",
            "Varianza de la distribución predictiva posterior: 5.587302 \n",
            "\n",
            "   y_star probabilidad\n",
            "1       0  0.005460353\n",
            "2       1  0.027798163\n",
            "3       2  0.071390737\n",
            "4       3  0.123311273\n",
            "5       4  0.161145414\n",
            "6       5  0.169935164\n",
            "7       6  0.150624350\n",
            "8       7  0.115413463\n",
            "9       8  0.078035239\n",
            "10      9  0.047294084\n",
            "11     10  0.026011746\n",
            "12     11  0.013113360\n",
            "13     12  0.006109634\n",
            "14     13  0.002648932\n",
            "15     14  0.001075054\n",
            "16     15  0.000410475\n"
          ]
        },
        {
          "output_type": "display_data",
          "data": {
            "image/png": "[encoded data removed]",
            "text/plain": [
              "<IPython.core.display.Image object>"
            ]
          },
          "metadata": {}
        }
      ]
    },
    {
      "cell_type": "markdown",
      "source": [
        "### Justificación de los cálculos:\n",
        "\n",
        "1. **Actualización de parámetros**:\n",
        "   - Para una distribución Gamma previa con parámetros (α, β) y datos Poisson, la distribución posterior es Gamma con parámetros:\n",
        "     - α_post = α_prior + Σy (suma de todas las observaciones)\n",
        "     - β_post = β_prior + n (número de observaciones)\n",
        "   - Esta actualización representa la combinación de la información previa con la información de los datos.\n",
        "\n",
        "2. **Distribución predictiva posterior**:\n",
        "   - Cuando integramos la verosimilitud Poisson(y*|θ) con la posterior Gamma(θ|α_post, β_post), obtenemos una distribución Binomial Negativa.\n",
        "   - La fórmula es: P(y*|datos) = ∫ P(y*|θ) × P(θ|datos) dθ\n",
        "   - Esto resulta en una Binomial Negativa con parámetros:\n",
        "     - r = α_post\n",
        "     - p = β_post/(β_post + 1)\n",
        "\n",
        "3. **Propiedades de la predictiva posterior**:\n",
        "   - Media: α_post / β_post (la misma que la media de la posterior de θ)\n",
        "   - Varianza: α_post(β_post + 1) / β_post² (mayor que la varianza de la posterior, reflejando la incertidumbre adicional de predecir un nuevo valor)\n",
        "\n",
        "Esta implementación proporciona no solo las probabilidades para diferentes valores de y*, sino también información sobre la distribución predictiva posterior completa, lo que ayuda a entender mejor el comportamiento esperado de futuras observaciones."
      ],
      "metadata": {
        "id": "ciIV9vh0A2Qa"
      }
    },
    {
      "cell_type": "markdown",
      "source": [
        "**Actividad 5**  \n",
        "Pregunta teórica:  \n",
        "Explica brevemente las principales diferencias entre las pruebas de hipótesis bajo un enfoque frecuentista y uno bayesiano."
      ],
      "metadata": {
        "id": "TgaJ82aMpCsr"
      }
    },
    {
      "cell_type": "markdown",
      "source": [
        "# Diferencias entre pruebas de hipótesis frecuentistas y bayesianas\n",
        "\n",
        "Las pruebas de hipótesis frecuentistas y bayesianas representan dos enfoques fundamentalmente distintos para evaluar evidencia estadística:\n",
        "\n",
        "## Enfoque frecuentista\n",
        "\n",
        "1. **Interpretación de probabilidad**: Se basa en la frecuencia relativa a largo plazo de eventos en experimentos repetidos.\n",
        "\n",
        "2. **Hipótesis fijas, datos aleatorios**: Considera los parámetros como valores fijos desconocidos, y los datos como aleatorios.\n",
        "\n",
        "3. **Valor p**: Calcula la probabilidad de obtener datos tan o más extremos que los observados, asumiendo que la hipótesis nula es cierta: P(datos|H₀).\n",
        "\n",
        "4. **Decisión binaria**: Típicamente resulta en rechazar o no rechazar la hipótesis nula basándose en un umbral predefinido (p < 0.05).\n",
        "\n",
        "5. **Información previa**: No incorpora formalmente conocimiento previo o creencias sobre los parámetros.\n",
        "\n",
        "## Enfoque bayesiano\n",
        "\n",
        "1. **Interpretación de probabilidad**: Representa el grado de creencia o estado de conocimiento sobre una hipótesis.\n",
        "\n",
        "2. **Datos fijos, hipótesis aleatorias**: Una vez observados los datos, calcula probabilidades sobre las hipótesis.\n",
        "\n",
        "3. **Probabilidad posterior**: Calcula directamente la probabilidad de la hipótesis dados los datos: P(H|datos).\n",
        "\n",
        "4. **Medición de evidencia**: Utiliza factores de Bayes o probabilidades posteriores para cuantificar la evidencia relativa entre hipótesis.\n",
        "\n",
        "5. **Información previa**: Incorpora explícitamente el conocimiento o creencias previas a través de distribuciones a priori.\n",
        "\n",
        "## Diferencias clave\n",
        "\n",
        "- El enfoque frecuentista responde \"¿Cuán probable son estos datos si la hipótesis nula es cierta?\", mientras que el bayesiano responde \"¿Cuán probable es esta hipótesis dados los datos observados?\"\n",
        "\n",
        "- El bayesiano permite actualizar continuamente el conocimiento a medida que llegan nuevos datos, mientras que el frecuentista trata cada prueba como un evento independiente.\n",
        "\n",
        "- El enfoque bayesiano cuantifica directamente la incertidumbre sobre los parámetros y evalúa hipótesis de manera probabilística, en lugar de ofrecer decisiones binarias.\n",
        "\n",
        "- Los métodos bayesianos integran información previa, lo que puede ser una ventaja cuando hay conocimiento experto disponible, pero también introduce subjetividad en la elección de las distribuciones previas."
      ],
      "metadata": {
        "id": "s0cv2ofvpDwY"
      }
    }
  ]
}